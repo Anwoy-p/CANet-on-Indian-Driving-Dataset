{
 "cells": [
  {
   "cell_type": "code",
   "execution_count": 1,
   "metadata": {
    "colab": {
     "base_uri": "https://localhost:8080/",
     "height": 34
    },
    "colab_type": "code",
    "id": "j82hHpdM1kxj",
    "outputId": "a5706a7a-1c3c-461a-fba4-b19f73345c33"
   },
   "outputs": [
    {
     "name": "stderr",
     "output_type": "stream",
     "text": [
      "WARNING:root:Limited tf.compat.v2.summary API due to missing TensorBoard installation.\n",
      "WARNING:root:Limited tf.compat.v2.summary API due to missing TensorBoard installation.\n",
      "WARNING:root:Limited tf.summary API due to missing TensorBoard installation.\n",
      "Using TensorFlow backend.\n"
     ]
    }
   ],
   "source": [
    "\n",
    "import json\n",
    "import os\n",
    "import pandas as pd\n",
    "import pprint\n",
    "import tensorflow as tf\n",
    "import time\n",
    "import numpy as np\n",
    "from tensorflow import keras\n",
    "from keras.layers import *\n",
    "import numpy as np \n",
    "from keras.preprocessing import image\n",
    "import cv2\n",
    "import matplotlib.pyplot as plt\n",
    "from scipy.misc.pilutil import imread\n",
    "import numpy as np\n",
    "from glob import glob\n",
    "import os\n",
    "import sys\n",
    "import random\n",
    "import warnings\n",
    "import numpy as np\n",
    "import pandas as pd\n",
    "\n",
    "#matplotlib.use('agg')\n",
    "from tqdm import tqdm\n",
    "from itertools import chain\n",
    "from skimage.io import imread, imshow, imread_collection, concatenate_images\n",
    "from skimage.transform import resize\n",
    "from skimage.morphology import label\n",
    "from keras.models import Model, load_model\n",
    "from keras.layers import Input\n",
    "from keras.layers.core import Dropout, Lambda\n",
    "from keras.layers.convolutional import Conv2D, Conv2DTranspose\n",
    "from keras.layers import UpSampling2D\n",
    "from keras.layers.pooling import MaxPooling2D\n",
    "from keras.layers.merge import concatenate\n",
    "from keras.callbacks import EarlyStopping, ModelCheckpoint\n",
    "from keras import backend as K\n",
    "import tensorflow as tf\n",
    "import cv2"
   ]
  },
  {
   "cell_type": "code",
   "execution_count": 2,
   "metadata": {},
   "outputs": [],
   "source": [
    "#Evaluation metrics\n",
    "from keras import backend as K\n",
    "def iou_coef(y_true, y_pred, smooth=1):\n",
    "  intersection = K.sum(K.abs(y_true * y_pred), axis=[1,2,3])\n",
    "  union = K.sum(y_true,[1,2,3])+K.sum(y_pred,[1,2,3])-intersection\n",
    "  iou = K.mean((intersection + smooth) / (union + smooth), axis=0)\n",
    "  return iou\n",
    "\n",
    "def dice_coef(y_true, y_pred, smooth=1):\n",
    "  intersection = K.sum(y_true * y_pred, axis=[1,2,3])\n",
    "  union = K.sum(y_true, axis=[1,2,3]) + K.sum(y_pred, axis=[1,2,3])\n",
    "  dice = K.mean((2. * intersection + smooth)/(union + smooth), axis=0)\n",
    "  return dice"
   ]
  },
  {
   "cell_type": "code",
   "execution_count": null,
   "metadata": {},
   "outputs": [],
   "source": []
  },
  {
   "cell_type": "code",
   "execution_count": 3,
   "metadata": {
    "colab": {},
    "colab_type": "code",
    "id": "vG801O2Gr-nD"
   },
   "outputs": [],
   "source": [
    "#final function 1 as told in the instructions\n",
    "def final_fun_1(X_test):\n",
    "  input_height, input_width = 128, 128\n",
    "  output_height, output_width = 128, 128\n",
    "  n_classes = 39\n",
    "  pred = []\n",
    "  dependencies = {'iou_coef': iou_coef,'dice_coef':dice_coef}\n",
    "  model = load_model('canetres50.h5',custom_objects=dependencies)\n",
    "  %matplotlib inline\n",
    "  path = glob(X_test)\n",
    "\n",
    "  h = 0\n",
    "  for i in path:\n",
    "  \n",
    "    if h ==2:\n",
    "      break\n",
    "  \n",
    "    img = cv2.imread(i)\n",
    "    img = np.float32(cv2.resize(img, (input_width, input_height))) / 127.5 - 1\n",
    "    img = np.expand_dims(img, axis = 0)\n",
    "\n",
    "    seg = model.predict(np.float32(img))\n",
    "    seg_ = np.argmax(seg, axis = 3)\n",
    "    seg_ = cv2.resize(np.uint8(seg_[0]), (output_width, output_height))\n",
    "   \n",
    "  \n",
    "    cv2.imwrite('label_'+str(h)+'.png',seg_)\n",
    "    pred.append('label_'+str(h)+'.png')\n",
    "  \n",
    "    h+=1\n",
    "\n",
    "  return pred\n"
   ]
  },
  {
   "cell_type": "code",
   "execution_count": 15,
   "metadata": {
    "colab": {
     "base_uri": "https://localhost:8080/",
     "height": 700
    },
    "colab_type": "code",
    "id": "uPb1rYighPJH",
    "outputId": "f57724bf-31d0-45cc-89cd-96a4cfffd81f"
   },
   "outputs": [],
   "source": [
    "path = 'IDD_Canet/new_dataset/leftImg8bit/test/*_leftImg8bit.png'\n",
    "pred = final_fun_1(path)"
   ]
  },
  {
   "cell_type": "code",
   "execution_count": 16,
   "metadata": {
    "colab": {
     "base_uri": "https://localhost:8080/",
     "height": 34
    },
    "colab_type": "code",
    "id": "FBm9S9QniL6b",
    "outputId": "1449f226-b30e-4918-8ff8-6c4288e3cfc5"
   },
   "outputs": [
    {
     "data": {
      "text/plain": [
       "['label_0.png', 'label_1.png']"
      ]
     },
     "execution_count": 16,
     "metadata": {},
     "output_type": "execute_result"
    }
   ],
   "source": [
    "pred"
   ]
  },
  {
   "cell_type": "code",
   "execution_count": 4,
   "metadata": {
    "colab": {},
    "colab_type": "code",
    "id": "WUMlTHDskn2K"
   },
   "outputs": [],
   "source": [
    "def getImageArr(path, width, height):\n",
    "  img = cv2.imread(path, 1)\n",
    "  img = np.float32(cv2.resize(img, (width, height))) / 127.5 - 1\n",
    "  return img\n",
    "\n",
    "def getSegmentationArr(path, nClasses, width, height): \n",
    "  seg_labels = np.zeros((height, width, nClasses))\n",
    "  img = cv2.imread(path, 1)\n",
    "  img = cv2.resize(img, (width, height))\n",
    "  #img = img[:, :, 0]\n",
    "\n",
    "  for key in list(label_to_color_map.keys()):\n",
    "        cur_color = np.array(label_to_color_map[key])[:3]\n",
    "        img[np.where((img==cur_color).all(axis=2))] = int(label_to_id_map[key])\n",
    "        \n",
    "  img = img[:, :, 0]\n",
    "\n",
    "  for c in range(nClasses):\n",
    "    seg_labels[:, :, c] = (img == c).astype(int)\n",
    "\n",
    "  return seg_labels"
   ]
  },
  {
   "cell_type": "code",
   "execution_count": 5,
   "metadata": {
    "colab": {},
    "colab_type": "code",
    "id": "4MtkNtODiZZ9"
   },
   "outputs": [],
   "source": [
    "#Final function 2 as told in the instructions\n",
    "def final_func_2(X_test,y_test):\n",
    "  input_height, input_width = 128, 128\n",
    "  output_height, output_width = 128, 128\n",
    "  n_classes = 39\n",
    "  pred = []\n",
    "  dependencies = {'iou_coef': iou_coef,'dice_coef':dice_coef}\n",
    "  model = load_model('canetres50.h5',custom_objects = dependencies)\n",
    "  hist = model.evaluate(X_test,y_test,verbose = 0)\n",
    "  \n",
    "  return [hist[1]*100,hist[2]*100,hist[3]*100]\n"
   ]
  },
  {
   "cell_type": "code",
   "execution_count": 6,
   "metadata": {
    "colab": {},
    "colab_type": "code",
    "id": "E_S0nRCfiZeN"
   },
   "outputs": [],
   "source": [
    "#paths to the images\n",
    "image_paths_test = glob('IDD_Canet/new_dataset/leftImg8bit/test/*_leftImg8bit.png')\n",
    "label_paths_test = [p.replace('new_dataset', 'labelled_Anue_dataset') for p in image_paths_test]"
   ]
  },
  {
   "cell_type": "code",
   "execution_count": 7,
   "metadata": {
    "colab": {},
    "colab_type": "code",
    "id": "54Qcld5kk43i"
   },
   "outputs": [],
   "source": [
    "X_test, y_test = [], [] "
   ]
  },
  {
   "cell_type": "code",
   "execution_count": 8,
   "metadata": {},
   "outputs": [],
   "source": [
    "with open('label_to_color_map.txt') as f:\n",
    "    label_to_color_map = json.load(f)\n",
    "label_arr = np.arange(len(label_to_color_map.keys()))\n",
    "color_arr = label_to_color_map.values()\n",
    "\n",
    "id_to_label_map = {}\n",
    "label_to_id_map = {}\n",
    "color_to_id_map = {}\n",
    "for i,class_id in enumerate(label_arr):\n",
    "    label = list(label_to_color_map.keys())[i]\n",
    "    color = list(label_to_color_map.values())[i]\n",
    "    id_to_label_map[str(class_id)] = label\n",
    "    label_to_id_map[label] = str(class_id)\n",
    "    #color_to_id_map[color] = str(class_id)"
   ]
  },
  {
   "cell_type": "code",
   "execution_count": 9,
   "metadata": {
    "colab": {},
    "colab_type": "code",
    "id": "NQi_60GkiZW-"
   },
   "outputs": [
    {
     "name": "stderr",
     "output_type": "stream",
     "text": [
      "100%|██████████████████████████████████████████████████████████████████████████████| 1592/1592 [02:07<00:00, 12.50it/s]\n"
     ]
    }
   ],
   "source": [
    "from tqdm import tqdm\n",
    "for i in tqdm(range(len(image_paths_test))):\n",
    "  X_test.append(getImageArr(image_paths_test[i], 128,128))\n",
    "  y_test.append(getSegmentationArr(label_paths_test[i], 39, 128, 128))"
   ]
  },
  {
   "cell_type": "code",
   "execution_count": 10,
   "metadata": {
    "colab": {},
    "colab_type": "code",
    "id": "bXu_wcWfnlF2"
   },
   "outputs": [
    {
     "name": "stdout",
     "output_type": "stream",
     "text": [
      "(1592, 128, 128, 3) (1592, 128, 128, 39)\n"
     ]
    }
   ],
   "source": [
    "X_test, y_test = np.array(X_test),np.array(y_test,dtype=np.uint8)\n",
    "print(X_test.shape, y_test.shape)"
   ]
  },
  {
   "cell_type": "code",
   "execution_count": 11,
   "metadata": {
    "colab": {},
    "colab_type": "code",
    "id": "L1fzR9gBiZUW"
   },
   "outputs": [],
   "source": [
    "pred = final_func_2(X_test,y_test)"
   ]
  },
  {
   "cell_type": "code",
   "execution_count": 12,
   "metadata": {},
   "outputs": [
    {
     "data": {
      "text/plain": [
       "[46.845704317092896, 62.64243125915527, 69.9500024318695]"
      ]
     },
     "execution_count": 12,
     "metadata": {},
     "output_type": "execute_result"
    }
   ],
   "source": [
    "pred"
   ]
  },
  {
   "cell_type": "code",
   "execution_count": 13,
   "metadata": {
    "colab": {
     "base_uri": "https://localhost:8080/",
     "height": 34
    },
    "colab_type": "code",
    "id": "HnZb5u51iZQI",
    "outputId": "1ae41217-3382-447e-e6b4-fb16366f6b94"
   },
   "outputs": [
    {
     "name": "stdout",
     "output_type": "stream",
     "text": [
      "Mean IoU is 46.845704317092896\n",
      "Dice Coefficient is 62.64243125915527\n",
      "accuracy is 69.9500024318695\n"
     ]
    }
   ],
   "source": [
    "#Evaluation metrics on test data\n",
    "print(\"Mean IoU is \"+ str(pred[0]))\n",
    "print(\"Dice Coefficient is \"+ str(pred[1]))\n",
    "print(\"accuracy is \"+ str(pred[2]))"
   ]
  }
 ],
 "metadata": {
  "colab": {
   "collapsed_sections": [],
   "name": "Final.ipynb",
   "provenance": []
  },
  "kernelspec": {
   "display_name": "Python 3",
   "language": "python",
   "name": "python3"
  },
  "language_info": {
   "codemirror_mode": {
    "name": "ipython",
    "version": 3
   },
   "file_extension": ".py",
   "mimetype": "text/x-python",
   "name": "python",
   "nbconvert_exporter": "python",
   "pygments_lexer": "ipython3",
   "version": "3.6.5"
  }
 },
 "nbformat": 4,
 "nbformat_minor": 1
}
